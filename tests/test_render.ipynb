{
 "cells": [
  {
   "cell_type": "code",
   "execution_count": 1,
   "id": "f540ea48-bd74-43b2-8e49-eaee43da52f1",
   "metadata": {},
   "outputs": [],
   "source": [
    "import gin\n",
    "%matplotlib inline\n",
    "\n",
    "from src.aae.Renderer import Renderer\n",
    "from src.aae.utils import TimerManager \n",
    "from src.aae.Visualizations import plot_img, plot_batch\n",
    "\n",
    "\n",
    "\n",
    "import gin\n",
    "import torch\n",
    "from torch.utils.data import DataLoader\n",
    "from tqdm.notebook import tqdm\n",
    "\n",
    "from src.aae.models import AugmentedAutoEncoder\n",
    "from src.aae.dataset import OnlineRenderer\n",
    "from src.aae.TransformUtils import aae_paper_views\n",
    "\n",
    "\n",
    "ITERS = 10\n",
    "\n",
    "@gin.configurable\n",
    "def train_aae(num_workers: int=gin.REQUIRED,\n",
    "              num_train_iters: int=gin.REQUIRED,\n",
    "              cache_save_interval: int=gin.REQUIRED,\n",
    "              device: str=gin.REQUIRED):\n",
    "    \n",
    "    \n",
    "    overall = \"Overall\"\n",
    "    ds_init = \"Dataset Initialization\"\n",
    "    epoch_iter = \"Epoch Iteration\"\n",
    "    data_cast = \"Cast to device\"\n",
    "    \n",
    "    labels = (overall, ds_init, epoch_iter, data_cast)\n",
    "    timers = tuple(TimerManager() for _ in labels)\n",
    "    \n",
    "    def t_update(l, labels=labels, timers=timers):\n",
    "        t_idx = labels.index(l)\n",
    "        timers[t_idx](l)\n",
    "        \n",
    "    t_update(overall)\n",
    "    \n",
    "    BS = 64\n",
    "    # batch_iters = aae_paper_views // BS\n",
    "    batch_iters = ITERS\n",
    "    \n",
    "    ######################################\n",
    "    # Optimization Step \n",
    "    ######################################\n",
    "    for epoch in tqdm(range(num_train_iters), desc=\"AAE Training\"):\n",
    "        # Create new dataset for each epoch\n",
    "        \n",
    "        t_update(ds_init)\n",
    "        dataset = OnlineRenderer()\n",
    "        dl = DataLoader(dataset,\n",
    "                   batch_size=dataset.batch_size,\n",
    "                   shuffle=True,\n",
    "                   num_workers=0)\n",
    "        t_update(ds_init)\n",
    "        \n",
    "        t_update(epoch_iter)\n",
    "        steps = 0 \n",
    "        for data in tqdm(dl, desc=f\"Epoch: {epoch + 1}\", leave=False):\n",
    "                t_update(data_cast)\n",
    "                aug, gt, _pose = data\n",
    "                aug.to(device)\n",
    "                gt.to(device)\n",
    "                t_update(data_cast)\n",
    "                steps += 1\n",
    "                \n",
    "                if steps >= 10:\n",
    "                    break\n",
    "        t_update(epoch_iter)\n",
    "        \n",
    "    t_update(overall)\n",
    "    \n",
    "    \n",
    "    for l, t in zip(labels, timers):\n",
    "        print(t)\n",
    "\n",
    "# gin.add_config_file_search_path('..')\n",
    "gin.enter_interactive_mode()\n",
    "gin.parse_config_file('../config/train/linemod/[test]_obj_0001.gin')\n",
    "\n",
    "r = Renderer(\"../data/t_less/models_cad/obj_01.ply\")"
   ]
  },
  {
   "cell_type": "markdown",
   "id": "d738a4e0-4da9-4f70-a9dc-65beaa0b8276",
   "metadata": {},
   "source": [
    "## Timing for Rendering a Sinlge Images"
   ]
  },
  {
   "cell_type": "code",
   "execution_count": null,
   "id": "b43dd862-3935-40d1-9f81-3843e3489279",
   "metadata": {},
   "outputs": [],
   "source": [
    "timer = TimerManager()\n",
    "cur_name = \"One Image\"\n",
    "\n",
    "\n",
    "for _ in tqdm(range(ITERS), desc=f\"Timing for Rendering Single Image without Augmentations\"):\n",
    "    timer(cur_name)\n",
    "    aug_imgs, img, pose = r.produce_batch_images(batch_size=1)\n",
    "    timer(cur_name)\n",
    "\n",
    "print(timer)\n",
    "plot_img(img)"
   ]
  },
  {
   "cell_type": "markdown",
   "id": "c322b989-ed93-47ec-b605-4923b1f3479f",
   "metadata": {},
   "source": [
    "## Timing for Rendering a Batch of Images"
   ]
  },
  {
   "cell_type": "code",
   "execution_count": null,
   "id": "7bb57443-a35c-49bf-921d-57a4329ef672",
   "metadata": {},
   "outputs": [],
   "source": [
    "cur_name = \"Batch Image\"\n",
    "BS = 64\n",
    "timer = TimerManager()\n",
    "\n",
    "for _ in tqdm(range(ITERS), desc=f\"Timing for Rendering Batch of {BS} Images with Augmentations\"):\n",
    "    timer(cur_name)\n",
    "    aug_imgs, imgs, _ = r.produce_batch_images(batch_size=BS)\n",
    "    timer(cur_name)\n",
    "    \n",
    "print(timer)\n",
    "plot_batch(aug_imgs)"
   ]
  },
  {
   "cell_type": "markdown",
   "id": "1d60f0fb-34b1-462a-bace-eeef833c39c4",
   "metadata": {},
   "source": [
    "## Timing for Data Iteration"
   ]
  },
  {
   "cell_type": "code",
   "execution_count": 2,
   "id": "59dcaf7c-72b5-4bb2-8110-49c136fe7fd0",
   "metadata": {},
   "outputs": [
    {
     "data": {
      "application/vnd.jupyter.widget-view+json": {
       "model_id": "163a412f74134b9e8ee051326f6818c5",
       "version_major": 2,
       "version_minor": 0
      },
      "text/plain": [
       "AAE Training:   0%|          | 0/1 [00:00<?, ?it/s]"
      ]
     },
     "metadata": {},
     "output_type": "display_data"
    },
    {
     "data": {
      "application/vnd.jupyter.widget-view+json": {
       "model_id": "ff57da10890c43318188ead87c1e9f3b",
       "version_major": 2,
       "version_minor": 0
      },
      "text/plain": [
       "Epoch: 1:   0%|          | 0/1424 [00:00<?, ?it/s]"
      ]
     },
     "metadata": {},
     "output_type": "display_data"
    },
    {
     "name": "stdout",
     "output_type": "stream",
     "text": [
      "Overall\n",
      "==================================================\n",
      "Avg: 248.5 | std: 0.0 | # of ticks 1\n",
      "Dataset Initialization\n",
      "==================================================\n",
      "Avg: 0.5988 | std: 0.0 | # of ticks 1\n",
      "Epoch Iteration\n",
      "==================================================\n",
      "Avg: 247.9 | std: 0.0 | # of ticks 1\n",
      "Cast to device\n",
      "==================================================\n",
      "Avg: 0.2377 | std: 0.6626 | # of ticks 10\n"
     ]
    }
   ],
   "source": [
    "train_aae(num_train_iters=1)"
   ]
  }
 ],
 "metadata": {
  "kernelspec": {
   "display_name": "Python 3 (ipykernel)",
   "language": "python",
   "name": "python3"
  },
  "language_info": {
   "codemirror_mode": {
    "name": "ipython",
    "version": 3
   },
   "file_extension": ".py",
   "mimetype": "text/x-python",
   "name": "python",
   "nbconvert_exporter": "python",
   "pygments_lexer": "ipython3",
   "version": "3.9.12"
  }
 },
 "nbformat": 4,
 "nbformat_minor": 5
}

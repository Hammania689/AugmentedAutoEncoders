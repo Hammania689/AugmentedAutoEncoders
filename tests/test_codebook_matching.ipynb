{
 "cells": [
  {
   "cell_type": "code",
   "execution_count": 1,
   "id": "ccb0760a-22be-497d-8718-3c548d2ffb2d",
   "metadata": {},
   "outputs": [
    {
     "data": {
      "text/plain": [
       "ParsedConfigFileIncludesAndImports(filename='../config/test_codebook.gin', imports=[], includes=[ParsedConfigFileIncludesAndImports(filename='../config/aae.gin', imports=[], includes=[])])"
      ]
     },
     "execution_count": 1,
     "metadata": {},
     "output_type": "execute_result"
    }
   ],
   "source": [
    "import contextlib\n",
    "import sys\n",
    "\n",
    "import gin\n",
    "import numpy as np\n",
    "import torch\n",
    "from tqdm.notebook import tqdm\n",
    "\n",
    "from src.aae.models import AugmentedAutoEncoder\n",
    "from src.datasets.render_tless_dataset import  tless_codebook_online_generator\n",
    "# from src.datasets.concat_dataset import ConcatDataset\n",
    "from src.ycb_render.tless_renderer_tensor import *\n",
    "from src.config.config import cfg, cfg_from_file\n",
    "\n",
    "\n",
    "class DummyFile(object):\n",
    "    def write(self, x): pass\n",
    "\n",
    "@contextlib.contextmanager\n",
    "def nostdout():\n",
    "    save_stdout = sys.stdout\n",
    "    sys.stdout = DummyFile()\n",
    "    yield\n",
    "    sys.stdout = save_stdout\n",
    "    \n",
    "\n",
    "@gin.configurable\n",
    "def create_codebook(cfg_file:    str=gin.REQUIRED,\n",
    "                    model_path:  str=gin.REQUIRED,\n",
    "                    pose_path:  str=gin.REQUIRED,):\n",
    "\n",
    "    with nostdout():\n",
    "        cfg_from_file(cfg_file)\n",
    "        cfg.MODE = 'TRAIN'\n",
    "    \n",
    "    \n",
    "        model = AugmentedAutoEncoder(fixed_batch=None, log_to_wandb=False)\n",
    "\n",
    "        ckpt = torch.load('../results/checkpoints/obj_01.pth')\n",
    "        model.load_state_dict(ckpt['model'])\n",
    "\n",
    "\n",
    "\n",
    "        dataset_code = tless_codebook_online_generator(model_path,\n",
    "                                                       [model.cad_model_name],\n",
    "                                                       cfg.TRAIN.RENDER_DIST[0],\n",
    "                                                       output_size=(128, 128),\n",
    "                                                       gpu_id=cfg.GPU_ID,\n",
    "                                                       pose_list_path=pose_path)\n",
    "\n",
    "    model.compute_codebook(dataset_code)\n",
    "    \n",
    "    \n",
    "gin.enter_interactive_mode()\n",
    "gin.parse_config_file('../config/test_codebook.gin')\n"
   ]
  },
  {
   "cell_type": "code",
   "execution_count": 2,
   "id": "26ab8c84-4633-490f-94a8-0cc50dbaeac8",
   "metadata": {},
   "outputs": [
    {
     "name": "stderr",
     "output_type": "stream",
     "text": [
      "libEGL warning: DRI2: failed to create dri screen\n",
      "libEGL warning: Not allowed to force software rendering when API explicitly selects a hardware device.\n",
      "libEGL warning: DRI2: failed to create dri screen\n",
      "Unable to initialize EGL\n",
      "libEGL warning: DRI2: failed to create dri screen\n",
      "libEGL warning: Not allowed to force software rendering when API explicitly selects a hardware device.\n",
      "libEGL warning: DRI2: failed to create dri screen\n",
      "Unable to initialize EGL\n",
      "Generate Codebook:   0%|                                                       | 0/183 [00:00<?, ?it/s]"
     ]
    },
    {
     "name": "stdout",
     "output_type": "stream",
     "text": [
      "number of devices found 5\n",
      "Loaded EGL 1.5 after reload.\n"
     ]
    },
    {
     "name": "stderr",
     "output_type": "stream",
     "text": [
      "Generate Codebook: 100%|█████████████████████████████████████████████| 183/183 [02:37<00:00,  1.16it/s]"
     ]
    },
    {
     "name": "stdout",
     "output_type": "stream",
     "text": [
      "code book is saved to /data/ham/AugmentedAutoEncoders/results/codebooks/obj_01.pth\n"
     ]
    },
    {
     "name": "stderr",
     "output_type": "stream",
     "text": [
      "\n"
     ]
    }
   ],
   "source": [
    "create_codebook()"
   ]
  }
 ],
 "metadata": {
  "kernelspec": {
   "display_name": "Python 3 (ipykernel)",
   "language": "python",
   "name": "python3"
  },
  "language_info": {
   "codemirror_mode": {
    "name": "ipython",
    "version": 3
   },
   "file_extension": ".py",
   "mimetype": "text/x-python",
   "name": "python",
   "nbconvert_exporter": "python",
   "pygments_lexer": "ipython3",
   "version": "3.9.12"
  }
 },
 "nbformat": 4,
 "nbformat_minor": 5
}
